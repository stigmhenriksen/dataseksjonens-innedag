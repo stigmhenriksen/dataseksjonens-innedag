{
 "cells": [
  {
   "cell_type": "code",
   "execution_count": null,
   "metadata": {},
   "outputs": [],
   "source": [
    "import requests\n",
    "\n",
    "from io import BytesIO\n",
    "\n",
    "import pandas as pd\n",
    "\n",
    "from utils import save_dataframe_csv\n",
    "\n"
   ]
  },
  {
   "cell_type": "code",
   "execution_count": null,
   "metadata": {},
   "outputs": [],
   "source": [
    "FOLDER = \"data\"\n",
    "URL = \"https://www.nav.no/_/attachment/download/2dedd6e4-f22d-4761-9d7a-07f046c8e889\" \\\n",
    "      \":e92019f464edcea591425463f13094374bac443c/Nye_sykmeldte_per_uke._Tidsserie_Uke%2013%202022.xlsx\"\n",
    "\n",
    "\n",
    "def get_nav_xlsx(url: str) -> bytes:\n",
    "    resp = requests.get(url=url)\n",
    "    resp.raise_for_status()\n",
    "    return resp.content\n",
    "\n",
    "\n",
    "def load_xlsx_data(nav_data: bytes, sheet_name: str) -> pd.DataFrame:\n",
    "    with BytesIO(nav_data) as file:\n",
    "        _df = pd.read_excel(file, sheet_name=sheet_name, header=5)\n",
    "        _df.drop(columns=[column for column in _df.columns if \"Unnamed:\" in column.split()], inplace=True)\n",
    "\n",
    "        return _df\n",
    "\n",
    "\n",
    "if __name__ == \"__main__\":\n",
    "    data = get_nav_xlsx(url=URL)\n",
    "    df_alle_diagnoser = load_xlsx_data(nav_data=data, sheet_name=\"Alle diagnoser\",)\n",
    "    df_koronarelaterte_diagnoser = load_xlsx_data(nav_data=data, sheet_name=\"Koronarelaterte diagnoser\")\n",
    "\n",
    "    save_dataframe_csv(dataframe=df_alle_diagnoser, folder=FOLDER, name=\"nav_sykemeldte_alle_diagnoser\")\n",
    "    save_dataframe_csv(dataframe=df_koronarelaterte_diagnoser, folder=FOLDER, name=\"nav_sykemeldte_korona\")\n"
   ]
  }
 ],
 "metadata": {
  "interpreter": {
   "hash": "8ba00f51340a610bd5235fc479bdf9b7e18ec5b332fec30c14f87f04420a591c"
  },
  "kernelspec": {
   "display_name": "Python 3.8.8 64-bit ('jupyterlearn': conda)",
   "language": "python",
   "name": "python3"
  },
  "language_info": {
   "codemirror_mode": {
    "name": "ipython",
    "version": 3
   },
   "file_extension": ".py",
   "mimetype": "text/x-python",
   "name": "python",
   "nbconvert_exporter": "python",
   "pygments_lexer": "ipython3",
   "version": "3.8.8"
  },
  "orig_nbformat": 4
 },
 "nbformat": 4,
 "nbformat_minor": 2
}
